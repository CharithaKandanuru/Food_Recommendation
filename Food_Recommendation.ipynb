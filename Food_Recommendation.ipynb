{
  "nbformat": 4,
  "nbformat_minor": 0,
  "metadata": {
    "colab": {
      "provenance": []
    },
    "kernelspec": {
      "name": "python3",
      "display_name": "Python 3"
    },
    "language_info": {
      "name": "python"
    }
  },
  "cells": [
    {
      "cell_type": "code",
      "execution_count": 4,
      "metadata": {
        "colab": {
          "base_uri": "https://localhost:8080/"
        },
        "id": "14VRvGy6S8Rp",
        "outputId": "a1a532e4-d3a0-46b6-e25e-e1e9bfc07e80"
      },
      "outputs": [
        {
          "output_type": "stream",
          "name": "stdout",
          "text": [
            "🍴 HYBRID FOOD RECOMMENDATION SYSTEM (No Surprise Library) 🍴\n",
            "\n",
            "--- Content-Based ---\n",
            "If you liked 'Chicken Biryani': ['Chicken 65', 'Paneer Butter Masala', 'Veg Hakka Noodles']\n",
            "\n",
            "--- Collaborative (User U002) ---\n",
            "Recommended for User U002: ['Paneer Butter Masala', 'Margherita Pizza', 'Chicken 65']\n",
            "\n",
            "--- Hybrid (User U002 + Chicken Biryani) ---\n",
            "Hybrid Recommendations: ['Chicken 65', 'Paneer Butter Masala', 'Veg Hakka Noodles']\n"
          ]
        }
      ],
      "source": [
        "\n",
        "# alt_food_recommendation.py\n",
        "\n",
        "import pandas as pd\n",
        "from sklearn.feature_extraction.text import TfidfVectorizer\n",
        "from sklearn.metrics.pairwise import cosine_similarity\n",
        "\n",
        "# -------------------- Load Dataset --------------------\n",
        "df = pd.read_csv(\"swiggy_orders_dataset.csv\")\n",
        "\n",
        "# -------------------- Content-Based Filtering --------------------\n",
        "df[\"Features\"] = df[\"FoodItem\"] + \" \" + df[\"Cuisine\"]\n",
        "\n",
        "vectorizer = TfidfVectorizer(stop_words=\"english\")\n",
        "tfidf_matrix = vectorizer.fit_transform(df[\"Features\"])\n",
        "\n",
        "cosine_sim = cosine_similarity(tfidf_matrix, tfidf_matrix)\n",
        "\n",
        "def content_based_recommend(food_name, num_recommendations=3):\n",
        "    if food_name not in df[\"FoodItem\"].values:\n",
        "        return f\"❌ '{food_name}' not found in dataset!\"\n",
        "\n",
        "    idx = df[df[\"FoodItem\"] == food_name].index[0]\n",
        "    sim_scores = list(enumerate(cosine_sim[idx]))\n",
        "    sim_scores = sorted(sim_scores, key=lambda x: x[1], reverse=True)\n",
        "    sim_scores = sim_scores[1:num_recommendations+1]\n",
        "    recommendations = [df.iloc[i[0]][\"FoodItem\"] for i in sim_scores]\n",
        "    return recommendations\n",
        "\n",
        "# -------------------- Collaborative Filtering (Pandas) --------------------\n",
        "# Create User-Item Rating Matrix\n",
        "user_item_matrix = df.pivot_table(index=\"UserID\", columns=\"FoodItem\", values=\"Rating\").fillna(0)\n",
        "\n",
        "# Compute User-User Similarity\n",
        "user_sim = cosine_similarity(user_item_matrix)\n",
        "user_sim_df = pd.DataFrame(user_sim, index=user_item_matrix.index, columns=user_item_matrix.index)\n",
        "\n",
        "def collaborative_recommend(user_id, num_recommendations=3):\n",
        "    if user_id not in user_item_matrix.index:\n",
        "        return f\"❌ User '{user_id}' not found!\"\n",
        "\n",
        "    # Find most similar users\n",
        "    similar_users = user_sim_df[user_id].sort_values(ascending=False).index[1:]\n",
        "\n",
        "    # Collect recommendations from similar users\n",
        "    recs = []\n",
        "    for sim_user in similar_users:\n",
        "        top_foods = df[df[\"UserID\"] == sim_user].sort_values(\"Rating\", ascending=False)[\"FoodItem\"].tolist()\n",
        "        for food in top_foods:\n",
        "            if food not in df[df[\"UserID\"] == user_id][\"FoodItem\"].values:\n",
        "                recs.append(food)\n",
        "        if len(recs) >= num_recommendations:\n",
        "            break\n",
        "\n",
        "    return recs[:num_recommendations]\n",
        "\n",
        "# -------------------- Hybrid Recommendation --------------------\n",
        "def hybrid_recommend(user_id, food_name, num_recommendations=3):\n",
        "    cb_recs = content_based_recommend(food_name, num_recommendations)\n",
        "    cf_recs = collaborative_recommend(user_id, num_recommendations)\n",
        "    hybrid = list(dict.fromkeys(cb_recs + cf_recs))  # remove duplicates\n",
        "    return hybrid[:num_recommendations]\n",
        "\n",
        "# -------------------- TEST --------------------\n",
        "print(\"🍴 HYBRID FOOD RECOMMENDATION SYSTEM (No Surprise Library) 🍴\")\n",
        "\n",
        "print(\"\\n--- Content-Based ---\")\n",
        "print(\"If you liked 'Chicken Biryani':\", content_based_recommend(\"Chicken Biryani\"))\n",
        "\n",
        "print(\"\\n--- Collaborative (User U002) ---\")\n",
        "print(\"Recommended for User U002:\", collaborative_recommend(\"U002\"))\n",
        "\n",
        "print(\"\\n--- Hybrid (User U002 + Chicken Biryani) ---\")\n",
        "print(\"Hybrid Recommendations:\", hybrid_recommend(\"U002\", \"Chicken Biryani\"))\n"
      ]
    }
  ]
}